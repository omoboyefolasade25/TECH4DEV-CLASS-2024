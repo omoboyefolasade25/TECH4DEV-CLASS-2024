{
 "cells": [
  {
   "cell_type": "markdown",
   "id": "42cf2321",
   "metadata": {},
   "source": [
    "#Write a program that finds the maximum value of the given list, assuming that the list contains at least one element.\n",
    "Try your program with the following array: 2, 4, 7, 4, 23, 5, 1, 4, 8, 9"
   ]
  },
  {
   "cell_type": "code",
   "execution_count": 1,
   "id": "4b28d755",
   "metadata": {},
   "outputs": [
    {
     "name": "stdout",
     "output_type": "stream",
     "text": [
      "The maximum value in the list is: 23\n"
     ]
    }
   ],
   "source": [
    "def find_max_value(lst):\n",
    "    max_value = lst[0]  # Assume the first element is the maximum\n",
    "    \n",
    "    for num in lst[1:]:\n",
    "        if num > max_value:\n",
    "            max_value = num\n",
    "\n",
    "    return max_value\n",
    "\n",
    "# Test the program with the given array\n",
    "numbers = [2, 4, 7, 4, 23, 5, 1, 4, 8, 9]\n",
    "max_value = find_max_value(numbers)\n",
    "\n",
    "print(\"The maximum value in the list is:\", max_value)"
   ]
  },
  {
   "cell_type": "code",
   "execution_count": null,
   "id": "918cec16",
   "metadata": {},
   "outputs": [],
   "source": [
    "#Write a program that calculates the average value of the given list.\n",
    "Try your program with the following list: 4, 7, 1, 5, 11, 53, 12, 46, 84, 23"
   ]
  },
  {
   "cell_type": "code",
   "execution_count": 2,
   "id": "ea873a3b",
   "metadata": {},
   "outputs": [
    {
     "name": "stdout",
     "output_type": "stream",
     "text": [
      "The average value of the list is: 24.6\n"
     ]
    }
   ],
   "source": [
    "def calculate_average(lst):\n",
    "    if not lst:\n",
    "        return None  # Return None for an empty list\n",
    "    \n",
    "    sum_values = sum(lst)\n",
    "    average = sum_values / len(lst)\n",
    "    \n",
    "    return average\n",
    "\n",
    "# Test the program with the given list\n",
    "numbers = [4, 7, 1, 5, 11, 53, 12, 46, 84, 23]\n",
    "average_value = calculate_average(numbers)\n",
    "\n",
    "if average_value is not None:\n",
    "    print(\"The average value of the list is:\", average_value)\n",
    "else:\n",
    "    print(\"The list is empty.\")"
   ]
  },
  {
   "cell_type": "code",
   "execution_count": null,
   "id": "d42d89e0",
   "metadata": {},
   "outputs": [],
   "source": [
    "# Write a program that prints the given list of integers in reverse order.\n",
    "Try your program with the following list: 2, 6, 7, 45, 23, 53, 14, 45, 89, 5"
   ]
  },
  {
   "cell_type": "code",
   "execution_count": 3,
   "id": "7185d823",
   "metadata": {},
   "outputs": [
    {
     "name": "stdout",
     "output_type": "stream",
     "text": [
      "List in reverse order: [5, 89, 45, 14, 53, 23, 45, 7, 6, 2]\n"
     ]
    }
   ],
   "source": [
    "def print_reverse_order(lst):\n",
    "    reversed_list = list(reversed(lst))\n",
    "    print(\"List in reverse order:\", reversed_list)\n",
    "\n",
    "# Test the program with the given list\n",
    "numbers = [2, 6, 7, 45, 23, 53, 14, 45, 89, 5]\n",
    "print_reverse_order(numbers)"
   ]
  },
  {
   "cell_type": "code",
   "execution_count": null,
   "id": "5952c0c9",
   "metadata": {},
   "outputs": [],
   "source": [
    "#Write a program that accepts two lists of integers and prints true if each element in the first list \n",
    "#is less than the element at the same index in the second list. \n",
    "#Your program should print false if the lists are not the same length."
   ]
  },
  {
   "cell_type": "code",
   "execution_count": 16,
   "id": "2b965826",
   "metadata": {},
   "outputs": [
    {
     "name": "stdout",
     "output_type": "stream",
     "text": [
      "True\n",
      "False\n"
     ]
    }
   ],
   "source": [
    "def compare_lists(list1, list2):\n",
    "    if len(list1) != len(list2):\n",
    "        print[\"False (Lists are not the same length)\"]\n",
    "        return\n",
    "    \n",
    "    result = all(x < y for x, y in zip(list1, list2))\n",
    "    \n",
    "    print(result)\n",
    "\n",
    "# Test the program with two lists\n",
    "list1 = [1, 2, 3, 4, 5]\n",
    "list2 = [6, 7, 8, 9, 10]\n",
    "compare_lists(list1, list2)\n",
    "\n",
    "list3 = [1, 2, 3, 4, 5]\n",
    "list4 = [6, 7, 8, 3, 10]\n",
    "compare_lists(list3, list4)"
   ]
  },
  {
   "cell_type": "code",
   "execution_count": null,
   "id": "07e1b14e",
   "metadata": {},
   "outputs": [],
   "source": [
    "# Write a program that accepts a list of integers and two indexes and swaps the elements at those indexes"
   ]
  },
  {
   "cell_type": "code",
   "execution_count": 6,
   "id": "f89db192",
   "metadata": {},
   "outputs": [
    {
     "name": "stdout",
     "output_type": "stream",
     "text": [
      "Original list: [1, 2, 3, 4, 5]\n",
      "List after swapping: [1, 4, 3, 2, 5]\n"
     ]
    }
   ],
   "source": [
    "def swap_elements(lst, index1, index2):\n",
    "    if 0 <= index1 < len(lst) and 0 <= index2 < len(lst):\n",
    "        lst[index1], lst[index2] = lst[index2], lst[index1]\n",
    "        print(\"List after swapping:\", lst)\n",
    "    else:\n",
    "        print(\"Invalid indexes.\")\n",
    "\n",
    "# Test the program with a list and two indexes\n",
    "my_list = [1, 2, 3, 4, 5]\n",
    "swap_index1 = 1\n",
    "swap_index2 = 3\n",
    "\n",
    "print(\"Original list:\", my_list)\n",
    "swap_elements(my_list, swap_index1, swap_index2)"
   ]
  },
  {
   "cell_type": "code",
   "execution_count": null,
   "id": "4523bfbb",
   "metadata": {},
   "outputs": [],
   "source": [
    "#Write a program that accepts two lists of integers and prints a new list containing all elements of the first list \n",
    "#followed by all elements of the second."
   ]
  },
  {
   "cell_type": "code",
   "execution_count": 7,
   "id": "5ce62347",
   "metadata": {},
   "outputs": [
    {
     "name": "stdout",
     "output_type": "stream",
     "text": [
      "New list: [1, 2, 3, 4, 5, 6]\n"
     ]
    }
   ],
   "source": [
    "def concatenate_lists(list1, list2):\n",
    "    new_list = list1 + list2\n",
    "    print(\"New list:\", new_list)\n",
    "\n",
    "# Test the program with two lists\n",
    "list_a = [1, 2, 3]\n",
    "list_b = [4, 5, 6]\n",
    "concatenate_lists(list_a, list_b)"
   ]
  },
  {
   "cell_type": "code",
   "execution_count": null,
   "id": "01f69ec4",
   "metadata": {},
   "outputs": [],
   "source": [
    "# Write a program that accepts a list of integers and an integer value as its parameters and prints the last index at which the value occurs in the list. \n",
    "#The program should print –1 if the value is not found. \n",
    "#For example, in the list [74, 85, 102, 99, 101, 85, 56], the last index of the value 85 is 5."
   ]
  },
  {
   "cell_type": "code",
   "execution_count": 10,
   "id": "77f24cae",
   "metadata": {},
   "outputs": [
    {
     "name": "stdout",
     "output_type": "stream",
     "text": [
      "Last index of 85 is: 5\n"
     ]
    }
   ],
   "source": [
    "def last_index_of_value(lst, value):\n",
    "    try:\n",
    "        last_index = len(lst) - 1 - lst[::-1].index(value)\n",
    "        print(\"Last index of\", value, \"is:\", last_index)\n",
    "    except ValueError:\n",
    "        print(value, \"not found in the list. Last index is -1.\")\n",
    "\n",
    "# Test the program with a list and a value\n",
    "my_list = [74, 85, 102, 99, 101, 85, 56]\n",
    "search_value = 85\n",
    "last_index_of_value(my_list, search_value)"
   ]
  },
  {
   "cell_type": "code",
   "execution_count": null,
   "id": "4a35d0d3",
   "metadata": {},
   "outputs": [],
   "source": [
    "# Write a program that prints the range of values in a list of integers. \n",
    "#The range is defined as 1 more than the difference between the maximum and minimum values in the list. \n",
    "#For example, if a list contains the values [36, 12, 25, 19, 46, 31, 22], the program should return 35. \n",
    "#You may assume that the list has at least one element."
   ]
  },
  {
   "cell_type": "code",
   "execution_count": 11,
   "id": "a6757ba7",
   "metadata": {},
   "outputs": [
    {
     "name": "stdout",
     "output_type": "stream",
     "text": [
      "The range of values in the list is: 35\n"
     ]
    }
   ],
   "source": [
    "def calculate_range(lst):\n",
    "    minimum_value = min(lst)\n",
    "    maximum_value = max(lst)\n",
    "    value_range = maximum_value - minimum_value + 1\n",
    "\n",
    "    print(\"The range of values in the list is:\", value_range)\n",
    "\n",
    "# Test the program with a list\n",
    "my_list = [36, 12, 25, 19, 46, 31, 22]\n",
    "calculate_range(my_list)"
   ]
  },
  {
   "cell_type": "code",
   "execution_count": null,
   "id": "34e32ec4",
   "metadata": {},
   "outputs": [],
   "source": [
    "# Write a program that accepts a list of integers,a minimum value, and a maximum value \n",
    "#and prints the count of how many elements from the list fall between the minimum and maximum (inclusive). \n",
    "#For example, in the list [14, 1, 22, 17, 36, 7, -43, 5], for minimum value 4 and maximum value 17, \n",
    "#there are four elements whose values fall between 4 and 17."
   ]
  },
  {
   "cell_type": "code",
   "execution_count": 12,
   "id": "299bac6f",
   "metadata": {},
   "outputs": [
    {
     "name": "stdout",
     "output_type": "stream",
     "text": [
      "The count of elements between 4 and 17 is: 4\n"
     ]
    }
   ],
   "source": [
    "def count_elements_in_range(lst, min_value, max_value):\n",
    "    count = sum(min_value <= num <= max_value for num in lst)\n",
    "    print(f\"The count of elements between {min_value} and {max_value} is:\", count)\n",
    "\n",
    "# Test the program with a list and minimum/maximum values\n",
    "my_list = [14, 1, 22, 17, 36, 7, -43, 5]\n",
    "min_value = 4\n",
    "max_value = 17\n",
    "count_elements_in_range(my_list, min_value, max_value)"
   ]
  },
  {
   "cell_type": "code",
   "execution_count": null,
   "id": "7dc327db",
   "metadata": {},
   "outputs": [],
   "source": [
    "# Write a program that accepts a list of real numbers and prints true if the list is in sorted (nondecreasing) order \n",
    "#and false otherwise. \n",
    "#For example, if lists named list1 and list2 store [16.1, 12.3, 22.2, 14.4] and [1.5, 4.3, 7.0, 19.5, 25.1, 46.2] respectively, \n",
    "# the program should print false for list1 and true for list2 respectively. \n",
    "#Assume the list has at least one element. A one-element list is sorted."
   ]
  },
  {
   "cell_type": "code",
   "execution_count": 13,
   "id": "628ee294",
   "metadata": {},
   "outputs": [
    {
     "name": "stdout",
     "output_type": "stream",
     "text": [
      "Is list1 sorted? False\n",
      "Is list2 sorted? True\n"
     ]
    }
   ],
   "source": [
    "def is_sorted(lst):\n",
    "    sorted_order = all(lst[i] <= lst[i + 1] for i in range(len(lst) - 1))\n",
    "    print(sorted_order)\n",
    "\n",
    "# Test the program with lists\n",
    "list1 = [16.1, 12.3, 22.2, 14.4]\n",
    "list2 = [1.5, 4.3, 7.0, 19.5, 25.1, 46.2]\n",
    "\n",
    "print(\"Is list1 sorted?\", end=\" \")\n",
    "is_sorted(list1)\n",
    "\n",
    "print(\"Is list2 sorted?\", end=\" \")\n",
    "is_sorted(list2)"
   ]
  }
 ],
 "metadata": {
  "kernelspec": {
   "display_name": "Python 3 (ipykernel)",
   "language": "python",
   "name": "python3"
  },
  "language_info": {
   "codemirror_mode": {
    "name": "ipython",
    "version": 3
   },
   "file_extension": ".py",
   "mimetype": "text/x-python",
   "name": "python",
   "nbconvert_exporter": "python",
   "pygments_lexer": "ipython3",
   "version": "3.11.5"
  }
 },
 "nbformat": 4,
 "nbformat_minor": 5
}
