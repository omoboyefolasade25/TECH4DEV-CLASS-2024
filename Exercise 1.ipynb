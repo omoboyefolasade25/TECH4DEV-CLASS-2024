{
 "cells": [
  {
   "cell_type": "code",
   "execution_count": 2,
   "id": "fdf8d796",
   "metadata": {},
   "outputs": [],
   "source": [
    "# What is the output of the following print statements?"
   ]
  },
  {
   "cell_type": "code",
   "execution_count": 1,
   "id": "3665d98f",
   "metadata": {},
   "outputs": [
    {
     "name": "stdout",
     "output_type": "stream",
     "text": [
      "\ta\tb\tc\n"
     ]
    }
   ],
   "source": [
    "print (\"\\ta\\tb\\tc\")"
   ]
  },
  {
   "cell_type": "code",
   "execution_count": 2,
   "id": "6b43f93c",
   "metadata": {},
   "outputs": [
    {
     "name": "stdout",
     "output_type": "stream",
     "text": [
      "\\\\\n"
     ]
    }
   ],
   "source": [
    "print (\"\\\\\\\\\")"
   ]
  },
  {
   "cell_type": "code",
   "execution_count": 3,
   "id": "6e85227a",
   "metadata": {},
   "outputs": [
    {
     "name": "stdout",
     "output_type": "stream",
     "text": [
      "'\n"
     ]
    }
   ],
   "source": [
    "print (\"'\")"
   ]
  },
  {
   "cell_type": "code",
   "execution_count": 4,
   "id": "01650d64",
   "metadata": {},
   "outputs": [
    {
     "name": "stdout",
     "output_type": "stream",
     "text": [
      "\"\"\"\n"
     ]
    }
   ],
   "source": [
    "print (\"\\\"\\\"\\\"\")"
   ]
  },
  {
   "cell_type": "code",
   "execution_count": 6,
   "id": "d5fda703",
   "metadata": {},
   "outputs": [
    {
     "name": "stdout",
     "output_type": "stream",
     "text": [
      "C:\\nin\\the downward spiral\n"
     ]
    }
   ],
   "source": [
    "print (r\"C:\\nin\\the downward spiral\")"
   ]
  },
  {
   "cell_type": "code",
   "execution_count": null,
   "id": "2a14222e",
   "metadata": {},
   "outputs": [],
   "source": [
    "# Write a print statement to produce this output"
   ]
  },
  {
   "cell_type": "code",
   "execution_count": 7,
   "id": "5bb8618e",
   "metadata": {
    "scrolled": true
   },
   "outputs": [
    {
     "name": "stdout",
     "output_type": "stream",
     "text": [
      "/ \\ // \\\\ /// \\\\\\\n"
     ]
    }
   ],
   "source": [
    "print(\"/ \\\\ // \\\\\\\\ /// \\\\\\\\\\\\\")"
   ]
  },
  {
   "cell_type": "code",
   "execution_count": null,
   "id": "61a4e416",
   "metadata": {},
   "outputs": [],
   "source": [
    "# What print statements will generate this output?\n",
    "\n",
    "This quote is from Irish poet Oscar Wilde: \n",
    "    \"Music makes one feel so romantic\n",
    "    - at least it always gets on one's nerves \n",
    "    – which is the same thing nowadays.\""
   ]
  },
  {
   "cell_type": "code",
   "execution_count": 3,
   "id": "245197ac",
   "metadata": {
    "scrolled": true
   },
   "outputs": [
    {
     "name": "stdout",
     "output_type": "stream",
     "text": [
      "This quote is from Irish poet Oscar Wilde:\n",
      "\"Music makes one feel so romantic\n",
      "\n",
      "- at least it always gets on one's nerves – which is the same thing nowadays.\"\n"
     ]
    }
   ],
   "source": [
    "print(\"This quote is from Irish poet Oscar Wilde:\")\n",
    "print(\"\\\"Music makes one feel so romantic\")\n",
    "print(\"\\n- at least it always gets on one's nerves – which is the same thing nowadays.\\\"\")"
   ]
  },
  {
   "cell_type": "code",
   "execution_count": null,
   "id": "761e936a",
   "metadata": {},
   "outputs": [],
   "source": [
    "# What print statements will generate this output?\n",
    "A \"quoted\" String is 'much' better if you learn\n",
    "the rules of \"escape sequences.\" Also, \"\" represents an empty String. Don't forget: use \\\" instead of \" ! '' is not the same as \""
   ]
  },
  {
   "cell_type": "code",
   "execution_count": 8,
   "id": "94032802",
   "metadata": {},
   "outputs": [
    {
     "name": "stdout",
     "output_type": "stream",
     "text": [
      "A \"quoted\" String is 'much' better if you learn\n",
      "the rules of \"escape sequences.\" Also, \"\" represents an empty String.\n",
      "Don't forget: use \\\" instead of \" ! '' is not the same as \"\n"
     ]
    }
   ],
   "source": [
    "print('A \"quoted\" String is \\'much\\' better if you learn')\n",
    "print('the rules of \"escape sequences.\" Also, \"\" represents an empty String.')\n",
    "print('Don\\'t forget: use \\\\\" instead of \" ! \\'\\' is not the same as \"')"
   ]
  },
  {
   "cell_type": "code",
   "execution_count": null,
   "id": "c26a3d1a",
   "metadata": {},
   "outputs": [],
   "source": [
    "#What values result from the following expressions?"
   ]
  },
  {
   "cell_type": "code",
   "execution_count": 21,
   "id": "bd3cd461",
   "metadata": {},
   "outputs": [
    {
     "name": "stdout",
     "output_type": "stream",
     "text": [
      "1.8\n"
     ]
    }
   ],
   "source": [
    "print (9/5)"
   ]
  },
  {
   "cell_type": "code",
   "execution_count": 20,
   "id": "4f6b3cde",
   "metadata": {},
   "outputs": [
    {
     "name": "stdout",
     "output_type": "stream",
     "text": [
      "15\n"
     ]
    }
   ],
   "source": [
    "print (695 % 20)"
   ]
  },
  {
   "cell_type": "code",
   "execution_count": 22,
   "id": "f89c1904",
   "metadata": {},
   "outputs": [
    {
     "name": "stdout",
     "output_type": "stream",
     "text": [
      "37\n"
     ]
    }
   ],
   "source": [
    "print (7 + 6 * 5)"
   ]
  },
  {
   "cell_type": "code",
   "execution_count": 23,
   "id": "64f2ac1d",
   "metadata": {},
   "outputs": [
    {
     "name": "stdout",
     "output_type": "stream",
     "text": [
      "47\n"
     ]
    }
   ],
   "source": [
    "print (7 * 6 + 5)"
   ]
  },
  {
   "cell_type": "code",
   "execution_count": 24,
   "id": "eee3951a",
   "metadata": {},
   "outputs": [
    {
     "name": "stdout",
     "output_type": "stream",
     "text": [
      "9.6\n"
     ]
    }
   ],
   "source": [
    "print (248 % 100 / 5)"
   ]
  },
  {
   "cell_type": "code",
   "execution_count": 25,
   "id": "d5a90795",
   "metadata": {},
   "outputs": [
    {
     "name": "stdout",
     "output_type": "stream",
     "text": [
      "15.75\n"
     ]
    }
   ],
   "source": [
    "print (6 * 3 - 9 / 4)"
   ]
  },
  {
   "cell_type": "code",
   "execution_count": 26,
   "id": "7d34282b",
   "metadata": {},
   "outputs": [
    {
     "name": "stdout",
     "output_type": "stream",
     "text": [
      "-8\n"
     ]
    }
   ],
   "source": [
    "print ((5 - 7) * 4)"
   ]
  },
  {
   "cell_type": "code",
   "execution_count": 28,
   "id": "f24cee60",
   "metadata": {},
   "outputs": [
    {
     "name": "stdout",
     "output_type": "stream",
     "text": [
      "9\n"
     ]
    }
   ],
   "source": [
    "print (6 + (18 % (17 - 12)))"
   ]
  }
 ],
 "metadata": {
  "kernelspec": {
   "display_name": "Python 3 (ipykernel)",
   "language": "python",
   "name": "python3"
  },
  "language_info": {
   "codemirror_mode": {
    "name": "ipython",
    "version": 3
   },
   "file_extension": ".py",
   "mimetype": "text/x-python",
   "name": "python",
   "nbconvert_exporter": "python",
   "pygments_lexer": "ipython3",
   "version": "3.11.5"
  }
 },
 "nbformat": 4,
 "nbformat_minor": 5
}
