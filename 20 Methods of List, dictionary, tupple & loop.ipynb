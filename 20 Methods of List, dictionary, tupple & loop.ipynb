{
 "cells": [
  {
   "cell_type": "markdown",
   "id": "3567fea3",
   "metadata": {},
   "source": [
    "# Write 20 methods used in modifying LIST, TUPLE, LOOP and DICTIONARY ."
   ]
  },
  {
   "cell_type": "markdown",
   "id": "154f3051",
   "metadata": {},
   "source": [
    "# LIST"
   ]
  },
  {
   "cell_type": "code",
   "execution_count": null,
   "id": "caec3019",
   "metadata": {},
   "outputs": [],
   "source": [
    "#Appending Elements\n",
    "#Add an elemnt to the fruits list"
   ]
  },
  {
   "cell_type": "code",
   "execution_count": 5,
   "id": "d97c5803",
   "metadata": {},
   "outputs": [
    {
     "name": "stdout",
     "output_type": "stream",
     "text": [
      "['apple', 'banana', 'cherry', 'cucumber']\n"
     ]
    }
   ],
   "source": [
    "fruits = [\"apple\", \"banana\", \"cherry\"]\n",
    "\n",
    "fruits.append(\"cucumber\")\n",
    "\n",
    "print(fruits)"
   ]
  },
  {
   "cell_type": "code",
   "execution_count": null,
   "id": "9f6c4293",
   "metadata": {},
   "outputs": [],
   "source": [
    "#Copy\n",
    "# Copy the fruits list:"
   ]
  },
  {
   "cell_type": "code",
   "execution_count": 7,
   "id": "1c86b727",
   "metadata": {},
   "outputs": [
    {
     "name": "stdout",
     "output_type": "stream",
     "text": [
      "['apple', 'banana', 'cherry', 'cucumber']\n"
     ]
    }
   ],
   "source": [
    "fruits = [\"apple\", \"banana\", \"cherry\", \"cucumber\"]\n",
    "\n",
    "x = fruits.copy()\n",
    "\n",
    "print(x)"
   ]
  },
  {
   "cell_type": "code",
   "execution_count": null,
   "id": "e61a4c13",
   "metadata": {},
   "outputs": [],
   "source": [
    "#Count\n",
    "#Return the number of times the value \"cherry\" appears in the fruits list:"
   ]
  },
  {
   "cell_type": "code",
   "execution_count": 10,
   "id": "4d3aed7f",
   "metadata": {},
   "outputs": [
    {
     "name": "stdout",
     "output_type": "stream",
     "text": [
      "2\n"
     ]
    }
   ],
   "source": [
    "fruits = [\"apple\", \"banana\", \"cherry\", \"cherry\"]\n",
    "\n",
    "x = fruits.count(\"cherry\")\n",
    "\n",
    "print (x)"
   ]
  },
  {
   "cell_type": "code",
   "execution_count": null,
   "id": "0acdb422",
   "metadata": {},
   "outputs": [],
   "source": [
    "#Extend\n",
    "#Add the elements of cars to the fruits list:"
   ]
  },
  {
   "cell_type": "code",
   "execution_count": 11,
   "id": "84dcfbd6",
   "metadata": {},
   "outputs": [
    {
     "name": "stdout",
     "output_type": "stream",
     "text": [
      "['apple', 'banana', 'cherry', 'Ford', 'BMW', 'Volvo']\n"
     ]
    }
   ],
   "source": [
    "fruits = [\"apple\", \"banana\", \"cherry\"]\n",
    "\n",
    "cars = [\"Ford\", \"BMW\", \"Volvo\"]\n",
    "\n",
    "fruits.extend(cars)\n",
    "\n",
    "print (fruits)"
   ]
  },
  {
   "cell_type": "code",
   "execution_count": null,
   "id": "6b2e149d",
   "metadata": {},
   "outputs": [],
   "source": [
    "#Clear\n",
    "#Remove all elements from the fruits list:"
   ]
  },
  {
   "cell_type": "code",
   "execution_count": 13,
   "id": "589db970",
   "metadata": {},
   "outputs": [
    {
     "name": "stdout",
     "output_type": "stream",
     "text": [
      "[]\n"
     ]
    }
   ],
   "source": [
    "fruits = [\"apple\", \"banana\", \"cherry\", \"cucumber\"]\n",
    "\n",
    "fruits.clear()\n",
    "\n",
    "print (fruits)"
   ]
  },
  {
   "cell_type": "markdown",
   "id": "b21b4dab",
   "metadata": {},
   "source": [
    "# TUPLE"
   ]
  },
  {
   "cell_type": "code",
   "execution_count": null,
   "id": "626d415b",
   "metadata": {},
   "outputs": [],
   "source": [
    "#Tuple Concatenation:\n",
    "#using the + operator:"
   ]
  },
  {
   "cell_type": "code",
   "execution_count": 19,
   "id": "85b584ea",
   "metadata": {},
   "outputs": [
    {
     "name": "stdout",
     "output_type": "stream",
     "text": [
      "('Bently', 'Benz', 'Ferari', 'Honda', 'Toyota', 'Mazda')\n"
     ]
    }
   ],
   "source": [
    "Luxurious_cars = (\"Bently\", \"Benz\", \"Ferari\")\n",
    "Regular_cars = (\"Honda\", \"Toyota\", \"Mazda\")\n",
    "concatenated_tuple = Luxurious_cars + Regular_cars\n",
    "\n",
    "print (concatenated_tuple)"
   ]
  },
  {
   "cell_type": "code",
   "execution_count": null,
   "id": "a8b5a63e",
   "metadata": {},
   "outputs": [],
   "source": [
    "#Tuple Count\n",
    "#Return the number of times the value 5 appears in the tuple:"
   ]
  },
  {
   "cell_type": "code",
   "execution_count": 23,
   "id": "74efe2cc",
   "metadata": {},
   "outputs": [
    {
     "name": "stdout",
     "output_type": "stream",
     "text": [
      "1\n"
     ]
    }
   ],
   "source": [
    "cars = (\"Bently\", \"Benz\", \"Ferari\", \"Honda\", \"Toyota\", \"Mazda\" \"Benz\", \"Mazda\")\n",
    "\n",
    "x = cars.count(\"Benz\")\n",
    "\n",
    "print(x)"
   ]
  },
  {
   "cell_type": "code",
   "execution_count": null,
   "id": "13ee1afb",
   "metadata": {},
   "outputs": [],
   "source": [
    "# Tuple Index\n",
    "# Search for the first occurrence of the value 6, and return its position:"
   ]
  },
  {
   "cell_type": "code",
   "execution_count": 2,
   "id": "7e0fccbf",
   "metadata": {},
   "outputs": [
    {
     "name": "stdout",
     "output_type": "stream",
     "text": [
      "7\n"
     ]
    }
   ],
   "source": [
    "thistuple = (1, 3, 7, 8, 7, 5, 4, 6, 8, 5)\n",
    "\n",
    "x = thistuple.index(6)\n",
    "\n",
    "print(x)"
   ]
  },
  {
   "cell_type": "code",
   "execution_count": null,
   "id": "ab0f20ef",
   "metadata": {},
   "outputs": [],
   "source": [
    "# Tuple Length\n",
    "# Print the number of items in the tuple:"
   ]
  },
  {
   "cell_type": "code",
   "execution_count": 3,
   "id": "f3962fc8",
   "metadata": {},
   "outputs": [
    {
     "name": "stdout",
     "output_type": "stream",
     "text": [
      "4\n"
     ]
    }
   ],
   "source": [
    "thistuple = (\"apple\", \"banana\", \"cherry\", \"cucumber\")\n",
    "print(len(thistuple))"
   ]
  },
  {
   "cell_type": "code",
   "execution_count": null,
   "id": "be5d9060",
   "metadata": {},
   "outputs": [],
   "source": [
    "# Converting to a List\n",
    "# Using the list() constructor to convert a tuple into a list."
   ]
  },
  {
   "cell_type": "code",
   "execution_count": 5,
   "id": "289c2d49",
   "metadata": {},
   "outputs": [
    {
     "name": "stdout",
     "output_type": "stream",
     "text": [
      "[1, 2, 3, 4, 5]\n"
     ]
    }
   ],
   "source": [
    "my_tuple = (1, 2, 3, 4, 5)\n",
    "my_list = list(my_tuple)\n",
    "print (my_list)"
   ]
  },
  {
   "cell_type": "markdown",
   "id": "735725eb",
   "metadata": {},
   "source": [
    "# DICTIONARY"
   ]
  },
  {
   "cell_type": "code",
   "execution_count": null,
   "id": "f483e472",
   "metadata": {},
   "outputs": [],
   "source": [
    "# Accessing Values"
   ]
  },
  {
   "cell_type": "code",
   "execution_count": 7,
   "id": "3a0f8738",
   "metadata": {},
   "outputs": [
    {
     "name": "stdout",
     "output_type": "stream",
     "text": [
      "value2\n"
     ]
    }
   ],
   "source": [
    "my_dict = {'key1': 'value1', 'key2': 'value2', 'key3': 'value3'}\n",
    "\n",
    "value2 = my_dict.get('key2') \n",
    "\n",
    "print (value2)"
   ]
  },
  {
   "cell_type": "code",
   "execution_count": null,
   "id": "e1f2a247",
   "metadata": {},
   "outputs": [],
   "source": [
    "# Adding Items"
   ]
  },
  {
   "cell_type": "code",
   "execution_count": 9,
   "id": "ba1b574d",
   "metadata": {},
   "outputs": [
    {
     "name": "stdout",
     "output_type": "stream",
     "text": [
      "{'key1': 'value1', 'key2': 'value2', 'key3': 'value3'}\n"
     ]
    }
   ],
   "source": [
    "my_dict = {'key1': 'value1', 'key2': 'value2'}\n",
    "\n",
    "my_dict['key3'] = 'value3'  \n",
    "\n",
    "print (my_dict)"
   ]
  },
  {
   "cell_type": "code",
   "execution_count": null,
   "id": "c97d9b3c",
   "metadata": {},
   "outputs": [],
   "source": [
    "# Modifying Items"
   ]
  },
  {
   "cell_type": "code",
   "execution_count": 10,
   "id": "3e555b94",
   "metadata": {},
   "outputs": [
    {
     "name": "stdout",
     "output_type": "stream",
     "text": [
      "{'key1': 'value4', 'key2': 'value2'}\n"
     ]
    }
   ],
   "source": [
    "my_dict = {'key1': 'value1', 'key2': 'value2'}\n",
    "my_dict['key1'] = 'value4'\n",
    "print (my_dict)"
   ]
  },
  {
   "cell_type": "code",
   "execution_count": null,
   "id": "2af6568f",
   "metadata": {},
   "outputs": [],
   "source": [
    "# Removing Items"
   ]
  },
  {
   "cell_type": "code",
   "execution_count": 12,
   "id": "58a38915",
   "metadata": {},
   "outputs": [
    {
     "name": "stdout",
     "output_type": "stream",
     "text": [
      "{'key2': 'value2', 'key3': 'value3'}\n"
     ]
    }
   ],
   "source": [
    "my_dict = {'key1': 'value1', 'key2': 'value2', 'key3': 'value3'}\n",
    "\n",
    "del my_dict['key1']\n",
    "\n",
    "print (my_dict)"
   ]
  },
  {
   "cell_type": "code",
   "execution_count": null,
   "id": "d55099d2",
   "metadata": {},
   "outputs": [],
   "source": [
    "# Keys, Values, and Items:\n",
    "# Allows us to retrieve the keys, values, and key-value pairs, respectively."
   ]
  },
  {
   "cell_type": "code",
   "execution_count": 14,
   "id": "d9940c8f",
   "metadata": {},
   "outputs": [
    {
     "name": "stdout",
     "output_type": "stream",
     "text": [
      "dict_keys(['key1', 'key2'])\n",
      "dict_values(['value1', 'value2'])\n",
      "dict_items([('key1', 'value1'), ('key2', 'value2')])\n"
     ]
    }
   ],
   "source": [
    "my_dict = {'key1': 'value1', 'key2': 'value2'}\n",
    "\n",
    "all_keys = my_dict.keys() \n",
    "all_values = my_dict.values()  \n",
    "all_items = my_dict.items()  \n",
    "\n",
    "print (all_keys)\n",
    "print (all_values)\n",
    "print (all_items)"
   ]
  },
  {
   "cell_type": "code",
   "execution_count": null,
   "id": "de3fac36",
   "metadata": {},
   "outputs": [],
   "source": [
    "# Nested Dictionary"
   ]
  },
  {
   "cell_type": "code",
   "execution_count": 17,
   "id": "d4262c3b",
   "metadata": {
    "scrolled": true
   },
   "outputs": [
    {
     "name": "stdout",
     "output_type": "stream",
     "text": [
      "{'child1': {'name': 'Emil', 'year': 2004}, 'child2': {'name': 'Tobias', 'year': 2007}, 'child3': {'name': 'Linus', 'year': 2011}}\n"
     ]
    }
   ],
   "source": [
    "myfamily = {\n",
    "  \"child1\" : {\"name\" : \"Emil\",\"year\" : 2004},\n",
    "    \n",
    "  \"child2\" : { \"name\" : \"Tobias\", \"year\" : 2007},\n",
    "    \n",
    "  \"child3\" : {\"name\" : \"Linus\",\"year\" : 2011}}\n",
    "\n",
    "print (myfamily)"
   ]
  },
  {
   "cell_type": "code",
   "execution_count": null,
   "id": "8c4ec583",
   "metadata": {},
   "outputs": [],
   "source": [
    "# Loop through a dictionary"
   ]
  },
  {
   "cell_type": "code",
   "execution_count": 23,
   "id": "1a5c5e7a",
   "metadata": {},
   "outputs": [
    {
     "name": "stdout",
     "output_type": "stream",
     "text": [
      "brand Ford\n",
      "model Mustang\n",
      "year 1964\n"
     ]
    }
   ],
   "source": [
    "thisdict = {\"brand\": \"Ford\", \"model\": \"Mustang\", \"year\": 1964}\n",
    "for x, y in thisdict.items():\n",
    "    print(x, y)\n"
   ]
  },
  {
   "cell_type": "markdown",
   "id": "6feab140",
   "metadata": {},
   "source": [
    "# LOOP"
   ]
  },
  {
   "cell_type": "code",
   "execution_count": null,
   "id": "3bdbdf38",
   "metadata": {},
   "outputs": [],
   "source": [
    "# Looping Through a String"
   ]
  },
  {
   "cell_type": "code",
   "execution_count": 24,
   "id": "0a1a2a5f",
   "metadata": {},
   "outputs": [
    {
     "name": "stdout",
     "output_type": "stream",
     "text": [
      "c\n",
      "u\n",
      "c\n",
      "u\n",
      "m\n",
      "b\n",
      "e\n",
      "r\n"
     ]
    }
   ],
   "source": [
    "for x in \"cucumber\":\n",
    "    print(x) \n"
   ]
  },
  {
   "cell_type": "code",
   "execution_count": null,
   "id": "57a74eed",
   "metadata": {},
   "outputs": [],
   "source": [
    "#The break Statement"
   ]
  },
  {
   "cell_type": "code",
   "execution_count": 34,
   "id": "0ed1d259",
   "metadata": {},
   "outputs": [
    {
     "name": "stdout",
     "output_type": "stream",
     "text": [
      "apple\n",
      "banana\n",
      "cherry\n"
     ]
    }
   ],
   "source": [
    "fruits = [\"apple\", \"banana\", \"cherry\", \"cucumber\", \"orange\", \"guava\"]\n",
    "for x in fruits:\n",
    "    print(x) \n",
    "    if x == \"cherry\":\n",
    "        break"
   ]
  },
  {
   "cell_type": "code",
   "execution_count": null,
   "id": "444f5627",
   "metadata": {},
   "outputs": [],
   "source": [
    "# The continue Statement\n",
    "# Do not print cucumber"
   ]
  },
  {
   "cell_type": "code",
   "execution_count": 45,
   "id": "a7f44c06",
   "metadata": {},
   "outputs": [
    {
     "name": "stdout",
     "output_type": "stream",
     "text": [
      "apple\n",
      "banana\n",
      "cherry\n",
      "orange\n",
      "guava\n"
     ]
    }
   ],
   "source": [
    "fruits = [\"apple\", \"banana\", \"cherry\", \"cucumber\", \"orange\", \"guava\"]\n",
    "for x in fruits:\n",
    "    if x == \"cucumber\":\n",
    "        continue\n",
    "    print(x)"
   ]
  },
  {
   "cell_type": "code",
   "execution_count": null,
   "id": "cde34ecd",
   "metadata": {},
   "outputs": [],
   "source": [
    "#Else in For Loop"
   ]
  },
  {
   "cell_type": "code",
   "execution_count": 46,
   "id": "44f6ba12",
   "metadata": {},
   "outputs": [
    {
     "name": "stdout",
     "output_type": "stream",
     "text": [
      "0\n",
      "1\n",
      "2\n",
      "3\n",
      "4\n",
      "5\n",
      "Complete!\n"
     ]
    }
   ],
   "source": [
    "for x in range(6):\n",
    "  print(x)\n",
    "else:\n",
    "  print(\"Complete!\")"
   ]
  }
 ],
 "metadata": {
  "kernelspec": {
   "display_name": "Python 3 (ipykernel)",
   "language": "python",
   "name": "python3"
  },
  "language_info": {
   "codemirror_mode": {
    "name": "ipython",
    "version": 3
   },
   "file_extension": ".py",
   "mimetype": "text/x-python",
   "name": "python",
   "nbconvert_exporter": "python",
   "pygments_lexer": "ipython3",
   "version": "3.11.5"
  }
 },
 "nbformat": 4,
 "nbformat_minor": 5
}
