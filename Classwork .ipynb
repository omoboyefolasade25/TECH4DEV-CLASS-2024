{
 "cells": [
  {
   "cell_type": "code",
   "execution_count": 2,
   "id": "e0b9477e",
   "metadata": {},
   "outputs": [],
   "source": [
    "#Print the first 10 natural numbers"
   ]
  },
  {
   "cell_type": "code",
   "execution_count": 3,
   "id": "61d547cb",
   "metadata": {},
   "outputs": [
    {
     "name": "stdout",
     "output_type": "stream",
     "text": [
      "1\n",
      "2\n",
      "3\n",
      "4\n",
      "5\n",
      "6\n",
      "7\n",
      "8\n",
      "9\n",
      "10\n"
     ]
    }
   ],
   "source": [
    "for i in range(1, 11):\n",
    "    print(i)"
   ]
  },
  {
   "cell_type": "code",
   "execution_count": null,
   "id": "5d0a4fb9",
   "metadata": {},
   "outputs": [],
   "source": [
    "# print(\"====The First 10 Natural Numbers====\")]"
   ]
  },
  {
   "cell_type": "code",
   "execution_count": 2,
   "id": "b9674b11",
   "metadata": {
    "scrolled": true
   },
   "outputs": [
    {
     "name": "stdout",
     "output_type": "stream",
     "text": [
      "====The First 10 Natural Numbers====\n",
      "1\n",
      "2\n",
      "3\n",
      "4\n",
      "5\n",
      "6\n",
      "7\n",
      "8\n",
      "9\n",
      "10\n"
     ]
    }
   ],
   "source": [
    "print(\"====The First 10 Natural Numbers====\")\n",
    "for i in range(1, 11):\n",
    "    print(i)"
   ]
  },
  {
   "cell_type": "code",
   "execution_count": null,
   "id": "0248e508",
   "metadata": {},
   "outputs": [],
   "source": [
    "# Count the total number of digits in a number"
   ]
  },
  {
   "cell_type": "code",
   "execution_count": 9,
   "id": "38807ff9",
   "metadata": {},
   "outputs": [
    {
     "name": "stdout",
     "output_type": "stream",
     "text": [
      "The total number of digits in 56789 is: 5\n"
     ]
    }
   ],
   "source": [
    "def count_digits(number):\n",
    "    # Convert the number to a string and use len() to count the digits\n",
    "    num_str = str(number)\n",
    "    num_digits = len(num_str)\n",
    "    \n",
    "    return num_digits\n",
    "\n",
    "# Test the program with a number\n",
    "your_number = 56789\n",
    "result = count_digits(your_number)\n",
    "\n",
    "print(f\"The total number of digits in {your_number} is: {result}\")"
   ]
  },
  {
   "cell_type": "code",
   "execution_count": null,
   "id": "9874a22f",
   "metadata": {},
   "outputs": [],
   "source": [
    "# Write a program to display all prime numbers within a range"
   ]
  },
  {
   "cell_type": "code",
   "execution_count": 8,
   "id": "304e6fc8",
   "metadata": {},
   "outputs": [
    {
     "name": "stdout",
     "output_type": "stream",
     "text": [
      "Prime numbers in the range 20 to 100:\n",
      "23\n",
      "29\n",
      "31\n",
      "37\n",
      "41\n",
      "43\n",
      "47\n",
      "53\n",
      "59\n",
      "61\n",
      "67\n",
      "71\n",
      "73\n",
      "79\n",
      "83\n",
      "89\n",
      "97\n"
     ]
    }
   ],
   "source": [
    "def is_prime(num):\n",
    "    if num < 2:\n",
    "        return False\n",
    "    for i in range(2, int(num**0.5) + 1):\n",
    "        if num % i == 0:\n",
    "            return False\n",
    "    return True\n",
    "\n",
    "def display_primes_in_range(start, end):\n",
    "    print(f\"Prime numbers in the range {start} to {end}:\")\n",
    "    for num in range(start, end + 1):\n",
    "        if is_prime(num):\n",
    "            print(num)\n",
    "\n",
    "# Test the program with a range\n",
    "start_range = 20\n",
    "end_range = 100\n",
    "display_primes_in_range(start_range, end_range)"
   ]
  },
  {
   "cell_type": "code",
   "execution_count": null,
   "id": "fd170420",
   "metadata": {},
   "outputs": [],
   "source": [
    "# Write a program to print a multiplication table of a given number"
   ]
  },
  {
   "cell_type": "code",
   "execution_count": 6,
   "id": "eb1978a8",
   "metadata": {},
   "outputs": [
    {
     "name": "stdout",
     "output_type": "stream",
     "text": [
      "Multiplication table for 9 up to 10 times:\n",
      "9 x 1 = 9\n",
      "9 x 2 = 18\n",
      "9 x 3 = 27\n",
      "9 x 4 = 36\n",
      "9 x 5 = 45\n",
      "9 x 6 = 54\n",
      "9 x 7 = 63\n",
      "9 x 8 = 72\n",
      "9 x 9 = 81\n",
      "9 x 10 = 90\n"
     ]
    }
   ],
   "source": [
    "def print_multiplication_table(number, table_size):\n",
    "    print(f\"Multiplication table for {number} up to {table_size} times:\")\n",
    "    for i in range(1, table_size + 1):\n",
    "        result = number * i\n",
    "        print(f\"{number} x {i} = {result}\")\n",
    "\n",
    "# Test the program with a number and table size\n",
    "your_number = 9\n",
    "your_table_size = 10\n",
    "print_multiplication_table(your_number, your_table_size)"
   ]
  }
 ],
 "metadata": {
  "kernelspec": {
   "display_name": "Python 3 (ipykernel)",
   "language": "python",
   "name": "python3"
  },
  "language_info": {
   "codemirror_mode": {
    "name": "ipython",
    "version": 3
   },
   "file_extension": ".py",
   "mimetype": "text/x-python",
   "name": "python",
   "nbconvert_exporter": "python",
   "pygments_lexer": "ipython3",
   "version": "3.11.5"
  }
 },
 "nbformat": 4,
 "nbformat_minor": 5
}
