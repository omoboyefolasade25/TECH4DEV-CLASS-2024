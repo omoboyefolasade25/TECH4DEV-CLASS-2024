{
 "cells": [
  {
   "cell_type": "code",
   "execution_count": null,
   "id": "01104378",
   "metadata": {},
   "outputs": [],
   "source": [
    "#Write a program to produce the following output using for loop"
   ]
  },
  {
   "cell_type": "code",
   "execution_count": 1,
   "id": "fd462f6d",
   "metadata": {},
   "outputs": [
    {
     "name": "stdout",
     "output_type": "stream",
     "text": [
      "**********\n",
      "**********\n",
      "**********\n",
      "**********\n",
      "**********\n"
     ]
    }
   ],
   "source": [
    "pattern = \"**********\"\n",
    "\n",
    "# Set the number of lines\n",
    "num_lines = 5\n",
    "\n",
    "# Print the pattern using a for loop\n",
    "for _ in range(num_lines):\n",
    "    print(pattern)"
   ]
  },
  {
   "cell_type": "code",
   "execution_count": null,
   "id": "6d5297fd",
   "metadata": {},
   "outputs": [],
   "source": [
    "#Write a program to produce the following output using for loop\n",
    "+----+\n",
    "\\ /\n",
    "/ \\\n",
    "\\ /\n",
    "/ \\\n",
    "\\ /\n",
    "/ \\\n",
    "+----+"
   ]
  },
  {
   "cell_type": "code",
   "execution_count": 11,
   "id": "aa3cb958",
   "metadata": {},
   "outputs": [
    {
     "name": "stdout",
     "output_type": "stream",
     "text": [
      "+----+\n",
      "\\ /\n",
      "/ \\\n",
      "\\ /\n",
      "/ \\\n",
      "\\ /\n",
      "/ \\\n",
      "+----+\n"
     ]
    }
   ],
   "source": [
    "pattern = [\n",
    "    \"+----+\",\n",
    "    \"\\\\ /\",\n",
    "    \"/ \\\\\",\n",
    "    \"\\\\ /\",\n",
    "    \"/ \\\\\",\n",
    "    \"\\\\ /\",\n",
    "    \"/ \\\\\",\n",
    "    \"+----+\"\n",
    "]\n",
    "\n",
    "# Print the pattern using a for loop\n",
    "for line in pattern:\n",
    "    print(line)"
   ]
  },
  {
   "cell_type": "code",
   "execution_count": null,
   "id": "cfb88137",
   "metadata": {},
   "outputs": [],
   "source": [
    "# Complete the code for the following for loop:\n",
    "for in range(1,7):\n",
    "//your code here\n",
    "so that it prints the following numbers, one per line:\n",
    "a) 1 b)2 c)4 d)30 e)-7 f)97 g)-4\n",
    "   2   4   19  20   -3   94   14\n",
    "   3   6   34  10    1   91   32\n",
    "   4   8   49   0    5   88   50\n",
    "   5   10  64  -10   9   85   68\n",
    "   6   12  79  -20   13  82   86"
   ]
  },
  {
   "cell_type": "code",
   "execution_count": 46,
   "id": "592b2845",
   "metadata": {},
   "outputs": [
    {
     "name": "stdout",
     "output_type": "stream",
     "text": [
      "a. 1\tb. 2\tc. 4\td. 30\te. -7\tf. 97\tg. -4\n",
      "a. 2\tb. 4\tc. 19\td. 20\te. -3\tf. 94\tg. 14\n",
      "a. 3\tb. 6\tc. 34\td. 10\te. 1\tf. 91\tg. 32\n",
      "a. 4\tb. 8\tc. 49\td. 0\te. 5\tf. 88\tg. 50\n",
      "a. 5\tb. 10\tc. 64\td. -10\te. 9\tf. 85\tg. 68\n",
      "a. 6\tb. 12\tc. 79\td. -20\te. 13\tf. 82\tg. 86\n"
     ]
    }
   ],
   "source": [
    "for i in range(1, 7):\n",
    "    a = 1 * i\n",
    "    b = 2 * i\n",
    "    c = -11 + 15 * i\n",
    "    d = 40 - 10 * i\n",
    "    e = -11 + 4 * i\n",
    "    f = 100 - 3 * i\n",
    "    g = -22 + 18 * i\n",
    "\n",
    "    print(f\"a. {a}\\tb. {b}\\tc. {c}\\td. {d}\\te. {e}\\tf. {f}\\tg. {g}\")"
   ]
  },
  {
   "cell_type": "code",
   "execution_count": null,
   "id": "a855abe3",
   "metadata": {},
   "outputs": [],
   "source": [
    "# Write a program to produce the following output using for loops. \n",
    "#Then use a class constant to make it possible to change the number of lines in the figure.\n",
    "1\n",
    "22\n",
    "333\n",
    "4444\n",
    "55555\n",
    "666666\n",
    "7777777"
   ]
  },
  {
   "cell_type": "code",
   "execution_count": 17,
   "id": "3db4b622",
   "metadata": {},
   "outputs": [
    {
     "name": "stdout",
     "output_type": "stream",
     "text": [
      "1\n",
      "22\n",
      "333\n",
      "4444\n",
      "55555\n",
      "666666\n",
      "7777777\n"
     ]
    }
   ],
   "source": [
    "class Figure:\n",
    "    NUM_LINES = 7  # Class constant to control the number of lines\n",
    "\n",
    "    @classmethod\n",
    "    def print_figure(cls):\n",
    "        for i in range(1, cls.NUM_LINES + 1):\n",
    "            for j in range(i):\n",
    "                print(i, end=\"\")\n",
    "            print()\n",
    "\n",
    "# Use the class to print the figure\n",
    "Figure.print_figure()"
   ]
  },
  {
   "cell_type": "code",
   "execution_count": null,
   "id": "32795600",
   "metadata": {},
   "outputs": [],
   "source": [
    "# Write a method named pay that accepts two parameters: \n",
    "#a real number for a TA's salary, and an integer for the number of hours the TA worked this week. \n",
    "#The method should return how much money to pay the TA. For example, the call pay(5.50, 6) should return 33.0.\n",
    "#The TA should receive \"overtime\" pay of 1 ½ normal salary for any hours above 8. \n",
    "#For example, the call pay(4.00, 11) should return (4.00 * 8) + (6.00 * 3) or 50.0."
   ]
  },
  {
   "cell_type": "code",
   "execution_count": 18,
   "id": "9cff86a0",
   "metadata": {},
   "outputs": [
    {
     "name": "stdout",
     "output_type": "stream",
     "text": [
      "33.0\n",
      "50.0\n"
     ]
    }
   ],
   "source": [
    "def pay(salary, hours_worked):\n",
    "    regular_hours = 8\n",
    "    overtime_multiplier = 1.5\n",
    "\n",
    "    if hours_worked <= regular_hours:\n",
    "        return salary * hours_worked\n",
    "    else:\n",
    "        regular_pay = salary * regular_hours\n",
    "        overtime_pay = salary * overtime_multiplier * (hours_worked - regular_hours)\n",
    "        total_pay = regular_pay + overtime_pay\n",
    "        return total_pay\n",
    "\n",
    "# Test the method with examples\n",
    "print(pay(5.50, 6))   # Output: 33.0\n",
    "print(pay(4.00, 11))  # Output: 50.0"
   ]
  },
  {
   "cell_type": "code",
   "execution_count": null,
   "id": "a39b96a0",
   "metadata": {},
   "outputs": [],
   "source": [
    "# Consider the following method for converting milliseconds into days:\n",
    "\n",
    "// converts milliseconds to days \n",
    "def toDays(millis):\n",
    "return millis / 1000.0 / 60.0 / 60.0 / 24.0\n",
    "\n",
    "\n",
    "#Write a similar method named area that takes as a parameter the radius of a circle and that returns the area of the circle. \n",
    "#For example, the call\n",
    "\n",
    "area(2.0);\n",
    "\n",
    "#should return\n",
    "\n",
    "12.566370614359172.\n",
    "\n",
    "#Recall that area can be computed as π times the radius squared and that Python has a constant called math.pi"
   ]
  },
  {
   "cell_type": "code",
   "execution_count": 1,
   "id": "e8bc652f",
   "metadata": {},
   "outputs": [
    {
     "name": "stdout",
     "output_type": "stream",
     "text": [
      "12.566370614359172\n"
     ]
    }
   ],
   "source": [
    "import math\n",
    "\n",
    "# Function to calculate the area of a circle\n",
    "def area(radius):\n",
    "    return math.pi * radius**2\n",
    "\n",
    "# Test the method with an example\n",
    "result = area(2.0)\n",
    "print(result)"
   ]
  },
  {
   "cell_type": "code",
   "execution_count": null,
   "id": "9efeb20b",
   "metadata": {},
   "outputs": [],
   "source": [
    "# Copy and paste the following code into pythons IDLE script environment.\n",
    "low = 1\n",
    "high = 1001\n",
    "sum = 0\n",
    "for i in range(low,high):\n",
    "sum += i\n",
    "print(\"sum = \" , sum)\n",
    "\n",
    "# Modify the code to use a input to prompt the user for the values of low and high. \n",
    "#Below is a sample execution in which the user asks for the same values as in the original program (1 through 1000):\n",
    "low? 1\n",
    "high? 1001\n",
    "sum = 500500\n",
    "\n",
    "#Below is an execution with different values for low and high:\n",
    "low? 300\n",
    "high? 5298\n",
    "sum = 13986903\n",
    "\n",
    "#You should exactly reproduce this format."
   ]
  },
  {
   "cell_type": "code",
   "execution_count": 2,
   "id": "aa5b34b9",
   "metadata": {},
   "outputs": [
    {
     "name": "stdout",
     "output_type": "stream",
     "text": [
      "low? 1\n",
      "high? 1001\n",
      "sum = 500500\n"
     ]
    }
   ],
   "source": [
    "low = int(input(\"low? \"))\n",
    "high = int(input(\"high? \"))\n",
    "sum = 0\n",
    "\n",
    "for i in range(low, high):\n",
    "    sum += i\n",
    "\n",
    "print(\"sum =\", sum)"
   ]
  },
  {
   "cell_type": "code",
   "execution_count": 3,
   "id": "875f4b04",
   "metadata": {},
   "outputs": [
    {
     "name": "stdout",
     "output_type": "stream",
     "text": [
      "low? 300\n",
      "high? 5298\n",
      "sum = 13986903\n"
     ]
    }
   ],
   "source": [
    "low = int(input(\"low? \"))\n",
    "high = int(input(\"high? \"))\n",
    "sum = 0\n",
    "\n",
    "for i in range(low, high):\n",
    "    sum += i\n",
    "\n",
    "print(\"sum =\", sum)"
   ]
  },
  {
   "cell_type": "code",
   "execution_count": null,
   "id": "7dc485ec",
   "metadata": {},
   "outputs": [],
   "source": [
    "# Write a program using while loop that prompts the user for numbers until the user types 0, then outputs their sum."
   ]
  },
  {
   "cell_type": "code",
   "execution_count": 4,
   "id": "93bd5f81",
   "metadata": {},
   "outputs": [
    {
     "name": "stdout",
     "output_type": "stream",
     "text": [
      "Enter a number (type 0 to finish): 1\n",
      "Enter a number (type 0 to finish): 3\n",
      "Enter a number (type 0 to finish): 2\n",
      "Enter a number (type 0 to finish): 5\n",
      "Enter a number (type 0 to finish): 4\n",
      "Enter a number (type 0 to finish): 7\n",
      "Enter a number (type 0 to finish): 6\n",
      "Enter a number (type 0 to finish): 9\n",
      "Enter a number (type 0 to finish): 8\n",
      "Enter a number (type 0 to finish): 0\n",
      "Sum of entered numbers: 45.0\n"
     ]
    }
   ],
   "source": [
    "# Initialize sum\n",
    "sum_numbers = 0\n",
    "\n",
    "# Prompt the user for numbers until they type 0\n",
    "while True:\n",
    "    user_input = input(\"Enter a number (type 0 to finish): \")\n",
    "\n",
    "    # Check if the input is 0 to exit the loop\n",
    "    if user_input == '0':\n",
    "        break\n",
    "\n",
    "    # Add the entered number to the sum\n",
    "    try:\n",
    "        number = float(user_input)\n",
    "        sum_numbers += number\n",
    "    except ValueError:\n",
    "        print(\"Invalid input. Please enter a valid number.\")\n",
    "\n",
    "# Output the sum\n",
    "print(\"Sum of entered numbers:\", sum_numbers)"
   ]
  },
  {
   "cell_type": "code",
   "execution_count": null,
   "id": "0d0b11c8",
   "metadata": {},
   "outputs": [],
   "source": [
    "#Write a program using while loop that prompts the user for numbers until the user types -1, then outputs their sum."
   ]
  },
  {
   "cell_type": "code",
   "execution_count": 5,
   "id": "4c9eee1c",
   "metadata": {},
   "outputs": [
    {
     "name": "stdout",
     "output_type": "stream",
     "text": [
      "Enter a number (type -1 to finish): 1\n",
      "Enter a number (type -1 to finish): 2\n",
      "Enter a number (type -1 to finish): 3\n",
      "Enter a number (type -1 to finish): 4\n",
      "Enter a number (type -1 to finish): 5\n",
      "Enter a number (type -1 to finish): 0\n",
      "Enter a number (type -1 to finish): 6\n",
      "Enter a number (type -1 to finish): 7\n",
      "Enter a number (type -1 to finish): 8\n",
      "Enter a number (type -1 to finish): 9\n",
      "Enter a number (type -1 to finish): -6\n",
      "Enter a number (type -1 to finish): -5\n",
      "Enter a number (type -1 to finish): -3\n",
      "Enter a number (type -1 to finish): -1\n",
      "Sum of entered numbers: 31.0\n"
     ]
    }
   ],
   "source": [
    "# Initialize sum\n",
    "sum_numbers = 0\n",
    "\n",
    "# Prompt the user for numbers until they type -1\n",
    "while True:\n",
    "    user_input = input(\"Enter a number (type -1 to finish): \")\n",
    "\n",
    "    # Check if the input is -1 to exit the loop\n",
    "    if user_input == '-1':\n",
    "        break\n",
    "\n",
    "    # Add the entered number to the sum\n",
    "    try:\n",
    "        number = float(user_input)\n",
    "        sum_numbers += number\n",
    "    except ValueError:\n",
    "        print(\"Invalid input. Please enter a valid number.\")\n",
    "\n",
    "# Output the sum\n",
    "print(\"Sum of entered numbers:\", sum_numbers)"
   ]
  },
  {
   "cell_type": "code",
   "execution_count": null,
   "id": "00eba384",
   "metadata": {},
   "outputs": [],
   "source": [
    "# Write a method named repl that accepts a String and a number of repetitions as parameters and returns the String concatenated that many times. \n",
    "#For example, the call repl(\"hello\", 3) returns \"hellohellohello\". \n",
    "#If the number of repetitions is 0 or less, an empty string is returned."
   ]
  },
  {
   "cell_type": "code",
   "execution_count": 6,
   "id": "0bd15aa7",
   "metadata": {},
   "outputs": [
    {
     "name": "stdout",
     "output_type": "stream",
     "text": [
      "hellohellohello\n",
      "\n"
     ]
    }
   ],
   "source": [
    "def repl(input_str, repetitions):\n",
    "    if repetitions <= 0:\n",
    "        return \"\"\n",
    "    else:\n",
    "        return input_str * repetitions\n",
    "\n",
    "# Test the method with examples\n",
    "result1 = repl(\"hello\", 3)\n",
    "result2 = repl(\"world\", 0)\n",
    "\n",
    "print(result1)  # Output: \"hellohellohello\"\n",
    "print(result2)  # Output: \"\""
   ]
  },
  {
   "cell_type": "code",
   "execution_count": null,
   "id": "e04d7995",
   "metadata": {},
   "outputs": [],
   "source": [
    "# Write a method called printRange that accepts two integers as arguments and prints the sequence of numbers between the two arguments, separated by spaces. \n",
    "#Print an increasing sequence if the first argument is smaller than the second; otherwise, print a decreasing sequence. \n",
    "#If the two numbers are the same, that number should be printed by itself. Here are some sample calls to printRange:\n",
    "\n",
    "printRange(2, 7)\n",
    "printRange(19, 11)\n",
    "printRange(5, 5)\n",
    "\n",
    "#The output produced should be the following:\n",
    "2 3 4 5 6 7\n",
    "19 18 17 16 15 14 13 12 11\n",
    "5"
   ]
  },
  {
   "cell_type": "code",
   "execution_count": 7,
   "id": "33d8ee03",
   "metadata": {},
   "outputs": [
    {
     "name": "stdout",
     "output_type": "stream",
     "text": [
      "2 3 4 5 6 7 \n",
      "19 18 17 16 15 14 13 12 11 \n",
      "5\n"
     ]
    }
   ],
   "source": [
    "def printRange(start, end):\n",
    "    if start < end:\n",
    "        # Increasing sequence\n",
    "        for num in range(start, end + 1):\n",
    "            print(num, end=\" \")\n",
    "    elif start > end:\n",
    "        # Decreasing sequence\n",
    "        for num in range(start, end - 1, -1):\n",
    "            print(num, end=\" \")\n",
    "    else:\n",
    "        # Numbers are the same\n",
    "        print(start)\n",
    "\n",
    "# Test the method with examples\n",
    "printRange(2, 7)\n",
    "print()  # Print a newline for separation\n",
    "printRange(19, 11)\n",
    "print()  # Print a newline for separation\n",
    "printRange(5, 5)"
   ]
  },
  {
   "cell_type": "code",
   "execution_count": null,
   "id": "7966ee73",
   "metadata": {},
   "outputs": [],
   "source": [
    "# Write a method named smallestLargest that asks the user to enter numbers, then prints the smallest and largest of all the numbers typed in by the user. \n",
    "#You may assume the user enters a valid number greater than 0 for the number of numbers to read. Here is an example dialogue:\n",
    "How many numbers do you want to enter? 4\n",
    "Number 1: 5\n",
    "Number 2: 11\n",
    "Number 3: -2\n",
    "Number 4: 3\n",
    "Smallest = -2\n",
    "Largest= 11"
   ]
  },
  {
   "cell_type": "code",
   "execution_count": 8,
   "id": "437f1045",
   "metadata": {},
   "outputs": [
    {
     "name": "stdout",
     "output_type": "stream",
     "text": [
      "How many numbers do you want to enter? 4\n",
      "Number 1: 5\n",
      "Number 2: 11\n",
      "Number 3: -2\n",
      "Number 4: 3\n",
      "Smallest = -2.0\n",
      "Largest = 11.0\n"
     ]
    }
   ],
   "source": [
    "def smallestLargest():\n",
    "    # Ask the user for the number of numbers to enter\n",
    "    num_of_numbers = int(input(\"How many numbers do you want to enter? \"))\n",
    "\n",
    "    # Ensure the user enters a valid number greater than 0\n",
    "    while num_of_numbers <= 0:\n",
    "        print(\"Please enter a valid number greater than 0.\")\n",
    "        num_of_numbers = int(input(\"How many numbers do you want to enter? \"))\n",
    "\n",
    "    # Initialize variables for the smallest and largest numbers\n",
    "    smallest = float('inf')\n",
    "    largest = float('-inf')\n",
    "\n",
    "    # Iterate through the user input numbers\n",
    "    for i in range(1, num_of_numbers + 1):\n",
    "        user_input = float(input(f\"Number {i}: \"))\n",
    "\n",
    "        # Update the smallest and largest numbers\n",
    "        smallest = min(smallest, user_input)\n",
    "        largest = max(largest, user_input)\n",
    "\n",
    "    # Print the smallest and largest numbers\n",
    "    print(\"Smallest =\", smallest)\n",
    "    print(\"Largest =\", largest)\n",
    "\n",
    "# Call the method to test it\n",
    "smallestLargest()"
   ]
  },
  {
   "cell_type": "code",
   "execution_count": null,
   "id": "74cfb5f3",
   "metadata": {},
   "outputs": [],
   "source": [
    "# Write a method called printAverage that uses a sentinel loop to repeatedly prompt the user for numbers. \n",
    "#Once the user types any number less than zero, the method should display the average of all nonnegative numbers typed. \n",
    "#Display the average as a double. Here is a sample dialogue with the user:\n",
    "Type a number: 7\n",
    "Type a number: 4\n",
    "Type a number: 16\n",
    "Type a number: –4\n",
    "Average was 9.0\n",
    "If the first number that the user types is negative, do not print an average:\n",
    "Type a number: –2"
   ]
  },
  {
   "cell_type": "code",
   "execution_count": 9,
   "id": "47e431e7",
   "metadata": {},
   "outputs": [
    {
     "name": "stdout",
     "output_type": "stream",
     "text": [
      "Type a number: 0\n",
      "Type a number: 2\n",
      "Type a number: 4\n",
      "Type a number: 6\n",
      "Type a number: 8\n",
      "Type a number: 3\n",
      "Type a number: 5\n",
      "Type a number: 7\n",
      "Type a number: 9\n",
      "Type a number: -3\n",
      "Average was 4.9\n"
     ]
    }
   ],
   "source": [
    "def printAverage():\n",
    "    total = 0\n",
    "    count = 0\n",
    "\n",
    "    while True:\n",
    "        user_input = float(input(\"Type a number: \"))\n",
    "        \n",
    "        if user_input < 0:\n",
    "            if count == 0:\n",
    "                print(\"No nonnegative numbers entered.\")\n",
    "            else:\n",
    "                average = total / count\n",
    "                print(f\"Average was {average:.1f}\")\n",
    "            break\n",
    "\n",
    "        total += user_input\n",
    "        count += 1\n",
    "\n",
    "# Call the method to test it\n",
    "printAverage()"
   ]
  },
  {
   "cell_type": "code",
   "execution_count": null,
   "id": "2372cac0",
   "metadata": {},
   "outputs": [],
   "source": [
    "# Write a method named numUnique that takes three integers as parameters and returns the number of unique integers among the three. \n",
    "#For example, the call numUnique(18, 3, 4) should return 3 because the parameters have three different values. \n",
    "#By contrast, the call numUnique(6, 7, 6) should return 2 because there are only two unique numbers among the three parameters: 6 and 7."
   ]
  },
  {
   "cell_type": "code",
   "execution_count": 10,
   "id": "e3cc1a29",
   "metadata": {},
   "outputs": [
    {
     "name": "stdout",
     "output_type": "stream",
     "text": [
      "3\n",
      "2\n"
     ]
    }
   ],
   "source": [
    "def numUnique(num1, num2, num3):\n",
    "    unique_numbers = set([num1, num2, num3])\n",
    "    return len(unique_numbers)\n",
    "\n",
    "# Test the method with examples\n",
    "result1 = numUnique(18, 3, 4)\n",
    "result2 = numUnique(6, 7, 6)\n",
    "\n",
    "print(result1)  # Output: 3\n",
    "print(result2)  # Output: 2"
   ]
  },
  {
   "cell_type": "code",
   "execution_count": null,
   "id": "e98fea7b",
   "metadata": {},
   "outputs": [],
   "source": [
    "#A Random object generates pseudo-random numbers. \n",
    "#Find out how to use the Random class and write a program that simulates rolling of two 6-sided dice until their combined result comes up as 7. \n",
    "#One possible output can be seen as below:\n",
    "2 + 4 = 6\n",
    "3 + 5 = 8\n",
    "5 + 6 = 11\n",
    "1 + 1 = 2\n",
    "4 + 3 = 7\n",
    "You won after 5 tries!"
   ]
  },
  {
   "cell_type": "code",
   "execution_count": 11,
   "id": "6bad17a4",
   "metadata": {},
   "outputs": [
    {
     "name": "stdout",
     "output_type": "stream",
     "text": [
      "1 + 4 = 5\n",
      "1 + 1 = 2\n",
      "2 + 3 = 5\n",
      "5 + 5 = 10\n",
      "2 + 5 = 7\n",
      "You won after 5 tries!\n"
     ]
    }
   ],
   "source": [
    "import random\n",
    "\n",
    "def roll_dice():\n",
    "    return random.randint(1, 6)\n",
    "\n",
    "def simulate_dice_rolls():\n",
    "    attempts = 0\n",
    "\n",
    "    while True:\n",
    "        dice1 = roll_dice()\n",
    "        dice2 = roll_dice()\n",
    "        total = dice1 + dice2\n",
    "\n",
    "        print(f\"{dice1} + {dice2} = {total}\")\n",
    "\n",
    "        attempts += 1\n",
    "\n",
    "        if total == 7:\n",
    "            print(f\"You won after {attempts} tries!\")\n",
    "            break\n",
    "\n",
    "# Call the method to simulate dice rolls\n",
    "simulate_dice_rolls()"
   ]
  }
 ],
 "metadata": {
  "kernelspec": {
   "display_name": "Python 3 (ipykernel)",
   "language": "python",
   "name": "python3"
  },
  "language_info": {
   "codemirror_mode": {
    "name": "ipython",
    "version": 3
   },
   "file_extension": ".py",
   "mimetype": "text/x-python",
   "name": "python",
   "nbconvert_exporter": "python",
   "pygments_lexer": "ipython3",
   "version": "3.11.5"
  }
 },
 "nbformat": 4,
 "nbformat_minor": 5
}
